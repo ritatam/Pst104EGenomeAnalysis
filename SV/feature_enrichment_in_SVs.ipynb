{
 "cells": [
  {
   "cell_type": "code",
   "execution_count": 3,
   "id": "99b2fe36-2c91-4ce7-842d-8f7ca8f6c30d",
   "metadata": {
    "tags": []
   },
   "outputs": [],
   "source": [
    "import pandas as pd\n",
    "import os\n",
    "import seaborn as sns\n",
    "import numpy as np\n",
    "import matplotlib.pyplot as plt\n",
    "import math\n",
    "import subprocess\n",
    "from tqdm import tqdm\n",
    "from glob import glob"
   ]
  },
  {
   "cell_type": "code",
   "execution_count": 4,
   "id": "2f561176-7970-44d9-a5e3-43c5c056fe6b",
   "metadata": {
    "tags": []
   },
   "outputs": [],
   "source": [
    "category_order = [\"inversion\", \"translocation\", \"duplication\", \"indel (>=50bp)\", \"syntenic_region\", \"not_aligned\"]\n",
    "category_order_v2 = [\"Inversions\", \"Translocations\", \"Duplications\", \"Indels (>=50bp)\", \"Syntenic regions\", \"Not aligned\"]\n",
    "chr_natural_order = [f\"chr{n}{hap}\" for n in range(1, 19) for hap in [\"A\", \"B\"]]"
   ]
  },
  {
   "cell_type": "code",
   "execution_count": 97,
   "id": "b3c8c024-023b-4e88-98af-7837b4b8fc90",
   "metadata": {
    "tags": []
   },
   "outputs": [],
   "source": [
    "def run_shell(command):\n",
    "    subprocess.run(command, shell=True)\n",
    "\n",
    "def calculate_feature_coverage_at_sv(feature_bed, sv_coords_bed):\n",
    "    \"\"\"\n",
    "    reads in a TE bed that has four columns: chr, start, end, matched consensus TE.\n",
    "    then calculate TE coverage by order or COS.\n",
    "    \"\"\"\n",
    "    # read in TE bed\n",
    "    df = pd.read_csv(feature_bed, sep=\"\\t\", header=None, usecols=(0,1,2))\n",
    "    df.columns = [\"chr\", \"start\", \"end\"]\n",
    "    df[[\"start\", \"end\"]] = df[[\"start\", \"end\"]].astype(int)\n",
    "    df[\"feat_len\"] = df[\"end\"]-df[\"start\"]\n",
    "    # # get feature bed for length to compute coverage in feature region\n",
    "    sv = pd.read_csv(sv_coords_bed, sep=\"\\t\", header=None, usecols=(0,1,2))\n",
    "    sv.columns = [\"chr\", \"start\", \"end\"]\n",
    "    sv[\"sv_len\"] = sv[\"end\"]-sv[\"start\"]\n",
    "    # # if more than one region per chr take their sum, e.g. sum lengths of noncentromere regions flanking centromere.\n",
    "    sv = sv.groupby(\"chr\")[\"sv_len\"].sum().reset_index()\n",
    "    df = pd.merge(df, sv[[\"chr\", \"sv_len\"]], on=\"chr\")\n",
    "    df = df.groupby([\"chr\", \"sv_len\"])[\"feat_len\"].sum().reset_index()\n",
    "    df[\"coverage\"] = (df[\"feat_len\"] / df[\"sv_len\"]) * 100\n",
    "    return df\n",
    "\n",
    "def calculate_feat_coverage_diff(SV_feat_cov_df, nonSV_feat_cov_df):\n",
    "    \"\"\"\n",
    "    calculates feature coverage difference by (SV - nonSV).\n",
    "    \"\"\"\n",
    "    result = pd.merge(SV_feat_cov_df, nonSV_feat_cov_df, \\\n",
    "                      on=[\"chr\"], suffixes=[\"_SV\", \"_nonSV\"])\n",
    "    result = result[[\"chr\", \"coverage_SV\", \"coverage_nonSV\"]]\n",
    "    result[\"coverage_diff\"] = result[\"coverage_SV\"]-result[\"coverage_nonSV\"]\n",
    "    return result"
   ]
  },
  {
   "cell_type": "code",
   "execution_count": 98,
   "id": "95788c3e-0b08-40ea-8f74-21318bded39d",
   "metadata": {
    "tags": []
   },
   "outputs": [],
   "source": [
    "!cat SV_hapA.bed SV_hapB.bed > SV.bed\n",
    "!bedtools subtract -a /media/ssd/rita/project/104e/SV_calling/l200b500c500/TE_enrichment/v3.9.chr.haplotype-paired.fasta.bed -b SV.bed > nonSV.bed\n",
    "# !sort -k1,1 -k2,2n TE_enrichment/TE.bed | bedtools merge > TE_enrichment/TE.merged.bed\n",
    "# mv TE.merged.bed TE.bed\n",
    "\n",
    "# intersect TEs with SVs to generate SV TEs bed file. TE only counted in if overlapped >=70%.\n",
    "!bedtools intersect -f 0.7 -a TE_enrichment/TE.bed -b SV.bed -wo > TE_enrichment/SV_TE.bed\n",
    "!bedtools intersect -f 0.7 -a TE_enrichment/TE.bed -b nonSV.bed -wo > TE_enrichment/nonSV_TE.bed"
   ]
  },
  {
   "cell_type": "code",
   "execution_count": 99,
   "id": "afa1f1fd-8e62-4090-ba03-8e52ce3d81bf",
   "metadata": {
    "tags": []
   },
   "outputs": [
    {
     "name": "stderr",
     "output_type": "stream",
     "text": [
      "/tmp/ipykernel_3182446/2132976277.py:11: UserWarning: set_ticklabels() should only be used with a fixed number of ticks, i.e. after set_ticks() or using a FixedLocator.\n",
      "  ax.set_xticklabels([\"inside SV\", \"outside SV\"])\n"
     ]
    },
    {
     "data": {
      "text/plain": [
       "Text(0.5, 0, '')"
      ]
     },
     "execution_count": 99,
     "metadata": {},
     "output_type": "execute_result"
    },
    {
     "data": {
      "image/png": "[encoded data removed]",
      "text/plain": [
       "<Figure size 200x300 with 1 Axes>"
      ]
     },
     "metadata": {},
     "output_type": "display_data"
    }
   ],
   "source": [
    "# generate observed result for actual data\n",
    "observed_TE_coverage_at_SV = calculate_feature_coverage_at_sv(\"TE_enrichment/SV_TE.bed\", \"SV.bed\")\n",
    "observed_TE_coverage_at_nonSV = calculate_feature_coverage_at_sv(\"TE_enrichment/nonSV_TE.bed\", \"nonSV.bed\")\n",
    "observed_result = calculate_feat_coverage_diff(observed_TE_coverage_at_SV, observed_TE_coverage_at_nonSV)\n",
    "observed_result[\"chr\"] = pd.Categorical(observed_result[\"chr\"], categories=chr_natural_order, ordered=True) \n",
    "observed_result = observed_result.sort_values(\"chr\")\n",
    "observed_result_plot = pd.melt(observed_result, id_vars=\"chr\", value_vars=[\"coverage_SV\", \"coverage_nonSV\"])\n",
    "observed_result_plot.columns = [\"chr\", \"variable\", \"% TE coverage\"]\n",
    "plt.figure(figsize=(2, 3))\n",
    "ax = sns.boxplot(observed_result_plot, y=\"% TE coverage\", x=\"variable\")\n",
    "ax.set_xticklabels([\"inside SV\", \"outside SV\"])\n",
    "ax.set_xlabel(\"\")"
   ]
  },
  {
   "cell_type": "code",
   "execution_count": 100,
   "id": "234698c3-4df5-4239-b013-8fbadbd3bdc7",
   "metadata": {
    "tags": []
   },
   "outputs": [],
   "source": [
    "!grep -P \"\\tgene\\t\" /media/ssd/rita/project/104e/gene_annotations/Puccinia_striiformis_Pst104E.gff3 | cut -f1,4,5 | awk '{print $1 \"\\t\" $2-1 \"\\t\" $3}' > gene_enrichment/gene.bed\n",
    "!sort -k1,1 -k2,2n gene_enrichment/gene.bed | bedtools merge > gene_enrichment/gene.merged.bed\n",
    "!bedtools intersect -f 0.7 -a gene_enrichment/gene.merged.bed -b SV.bed > gene_enrichment/SV_gene.bed\n",
    "!bedtools intersect -f 0.7 -a gene_enrichment/gene.merged.bed -b nonSV.bed > gene_enrichment/nonSV_gene.bed"
   ]
  },
  {
   "cell_type": "code",
   "execution_count": 101,
   "id": "710fe070-9380-4b87-aa71-4669504eee28",
   "metadata": {
    "tags": []
   },
   "outputs": [
    {
     "name": "stderr",
     "output_type": "stream",
     "text": [
      "/tmp/ipykernel_3182446/1028340442.py:11: UserWarning: set_ticklabels() should only be used with a fixed number of ticks, i.e. after set_ticks() or using a FixedLocator.\n",
      "  ax.set_xticklabels([\"inside SV\", \"outside SV\"])\n"
     ]
    },
    {
     "data": {
      "text/plain": [
       "Text(0.5, 0, '')"
      ]
     },
     "execution_count": 101,
     "metadata": {},
     "output_type": "execute_result"
    },
    {
     "data": {
      "image/png": "[encoded data removed]",
      "text/plain": [
       "<Figure size 200x300 with 1 Axes>"
      ]
     },
     "metadata": {},
     "output_type": "display_data"
    }
   ],
   "source": [
    "# generate observed result for actual data\n",
    "observed_gene_coverage_at_SV = calculate_feature_coverage_at_sv(\"gene_enrichment/SV_gene.bed\", \"SV.bed\")\n",
    "observed_gene_coverage_at_nonSV = calculate_feature_coverage_at_sv(\"gene_enrichment/nonSV_gene.bed\", \"nonSV.bed\")\n",
    "observed_result = calculate_feat_coverage_diff(observed_gene_coverage_at_SV, observed_gene_coverage_at_nonSV)\n",
    "observed_result[\"chr\"] = pd.Categorical(observed_result[\"chr\"], categories=chr_natural_order, ordered=True) \n",
    "observed_result = observed_result.sort_values(\"chr\")\n",
    "observed_result_plot = pd.melt(observed_result, id_vars=\"chr\", value_vars=[\"coverage_SV\", \"coverage_nonSV\"])\n",
    "observed_result_plot.columns = [\"chr\", \"variable\", \"% gene coverage\"]\n",
    "plt.figure(figsize=(2, 3))\n",
    "ax = sns.boxplot(observed_result_plot, y=\"% gene coverage\", x=\"variable\")\n",
    "ax.set_xticklabels([\"inside SV\", \"outside SV\"])\n",
    "ax.set_xlabel(\"\")"
   ]
  },
  {
   "cell_type": "code",
   "execution_count": null,
   "id": "d08d7ec3-1920-48c0-bb1b-6b102150c626",
   "metadata": {},
   "outputs": [],
   "source": []
  }
 ],
 "metadata": {
  "kernelspec": {
   "display_name": "Python [conda env:jupyter_gui] *",
   "language": "python",
   "name": "conda-env-jupyter_gui-py"
  },
  "language_info": {
   "codemirror_mode": {
    "name": "ipython",
    "version": 3
   },
   "file_extension": ".py",
   "mimetype": "text/x-python",
   "name": "python",
   "nbconvert_exporter": "python",
   "pygments_lexer": "ipython3",
   "version": "3.11.5"
  }
 },
 "nbformat": 4,
 "nbformat_minor": 5
}
